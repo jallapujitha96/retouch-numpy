{
 "cells": [
  {
   "cell_type": "code",
   "execution_count": 1,
   "id": "978f34b0",
   "metadata": {},
   "outputs": [
    {
     "name": "stdout",
     "output_type": "stream",
     "text": [
      "[[2 3 4]\n",
      " [3 4 5]\n",
      " [4 5 6]]\n"
     ]
    }
   ],
   "source": [
    "import numpy as np\n",
    "a=np.array([1,2,3])\n",
    "b=np.array([[1], [2], [3]])\n",
    "print(a + b)"
   ]
  },
  {
   "cell_type": "code",
   "execution_count": 2,
   "id": "1f39ea98",
   "metadata": {},
   "outputs": [
    {
     "name": "stdout",
     "output_type": "stream",
     "text": [
      "[[ 5  6]\n",
      " [ 9 10]]\n"
     ]
    }
   ],
   "source": [
    "import numpy as np  \n",
    "arr = np.arange(12).reshape(3, 4)\n",
    "print(arr[1:3, 1:3])"
   ]
  },
  {
   "cell_type": "code",
   "execution_count": 3,
   "id": "0e15c927",
   "metadata": {},
   "outputs": [
    {
     "name": "stdout",
     "output_type": "stream",
     "text": [
      "[0 0 0 1 2]\n"
     ]
    }
   ],
   "source": [
    "import numpy as np\n",
    "arr = np.array([-2, -1, 0, 1, 2])\n",
    "arr[arr<0]=0\n",
    "print(arr)"
   ]
  },
  {
   "cell_type": "code",
   "execution_count": 4,
   "id": "a4b52dc9",
   "metadata": {},
   "outputs": [
    {
     "name": "stdout",
     "output_type": "stream",
     "text": [
      "[2.  4.5]\n"
     ]
    }
   ],
   "source": [
    "import numpy as np\n",
    "matrix = np.array([[1, np.nan, 3], [4, 5, np.nan]])\n",
    "print(np.nanmean(matrix,axis=1))"
   ]
  },
  {
   "cell_type": "code",
   "execution_count": 5,
   "id": "940ef53e",
   "metadata": {},
   "outputs": [
    {
     "name": "stdout",
     "output_type": "stream",
     "text": [
      "[10 30]\n"
     ]
    }
   ],
   "source": [
    "import numpy as np\n",
    "data = np.array([10, 20, 30, 40])\n",
    "idx = np.array([True, False, True, False])\n",
    "print(data[idx])"
   ]
  },
  {
   "cell_type": "code",
   "execution_count": 6,
   "id": "9781e913",
   "metadata": {},
   "outputs": [
    {
     "name": "stdout",
     "output_type": "stream",
     "text": [
      "        Name  Age\n",
      "100    Alice   25\n",
      "101      Bob   30\n",
      "102  Charlie   35\n"
     ]
    }
   ],
   "source": [
    "import pandas as pd\n",
    "data = {'Name': ['Alice', 'Bob', 'Charlie'], 'Age': [25, 30, 35]}\n",
    "df=pd.DataFrame(data,index=[100,101,102])\n",
    "print(df)\n",
    "\n",
    "\n"
   ]
  },
  {
   "cell_type": "code",
   "execution_count": 7,
   "id": "71bc8be1",
   "metadata": {},
   "outputs": [
    {
     "name": "stdout",
     "output_type": "stream",
     "text": [
      "     A    B\n",
      "0  1.0  5.5\n",
      "1  2.0  5.0\n",
      "2  NaN  6.0\n"
     ]
    }
   ],
   "source": [
    "import pandas as pd\n",
    "import numpy as np\n",
    "\n",
    "df = pd.DataFrame({'A': [1, 2, np.nan], 'B': [np.nan, 5, 6]})\n",
    "df['B']=df['B'].fillna(df['B'].mean())\n",
    "print(df)"
   ]
  },
  {
   "cell_type": "code",
   "execution_count": 8,
   "id": "7c872bb3",
   "metadata": {},
   "outputs": [
    {
     "name": "stdout",
     "output_type": "stream",
     "text": [
      "  Region  Sales  Profit\n",
      "0  North    250    22.5\n",
      "1  South    450    35.0\n"
     ]
    }
   ],
   "source": [
    "import pandas as pd\n",
    "df = pd.DataFrame({\n",
    "       'Region': ['North', 'South', 'North', 'South'],\n",
    "       'Sales': [100, 200, 150, 250],\n",
    "       'Profit': [20, 30, 25, 40]\n",
    "   })\n",
    "grouped = df.groupby('Region').agg({'Sales': 'sum', 'Profit': 'mean'}).reset_index()  \n",
    "print(grouped)"
   ]
  },
  {
   "cell_type": "code",
   "execution_count": 11,
   "id": "d3009b82",
   "metadata": {},
   "outputs": [
    {
     "name": "stdout",
     "output_type": "stream",
     "text": [
      "   order_id  cust_id   name\n",
      "0         1      101  Alice\n",
      "1         2      102    NaN\n"
     ]
    }
   ],
   "source": [
    "import pandas as pd\n",
    "orders = pd.DataFrame({'order_id': [1, 2], 'cust_id': [101, 102]})\n",
    "customers = pd.DataFrame({'cust_id': [101, 103], 'name': ['Alice', 'Bob']})\n",
    "merged=pd.merge(orders,customers,on='cust_id',how='left')\n",
    "print(merged)\n"
   ]
  },
  {
   "cell_type": "code",
   "execution_count": 12,
   "id": "7a5655e3",
   "metadata": {},
   "outputs": [
    {
     "name": "stdout",
     "output_type": "stream",
     "text": [
      "        Date  Value  Month\n",
      "0 2023-01-05     10      1\n",
      "1 2023-01-15     20      1\n",
      "2 2023-02-10     30      2\n",
      "Month\n",
      "1    30\n",
      "2    30\n",
      "Name: Value, dtype: int64\n"
     ]
    }
   ],
   "source": [
    "import pandas as pd\n",
    "df = pd.DataFrame({\n",
    "        'Date': ['2023-01-05', '2023-01-15', '2023-02-10'],\n",
    "        'Value': [10, 20, 30]\n",
    "    })\n",
    "df['Date']=pd.to_datetime(df['Date'])\n",
    "df['Month']=df['Date'].dt.month\n",
    "print(df)\n",
    "print(df.groupby('Month')['Value'].sum())\n"
   ]
  }
 ],
 "metadata": {
  "kernelspec": {
   "display_name": "Python 3",
   "language": "python",
   "name": "python3"
  },
  "language_info": {
   "codemirror_mode": {
    "name": "ipython",
    "version": 3
   },
   "file_extension": ".py",
   "mimetype": "text/x-python",
   "name": "python",
   "nbconvert_exporter": "python",
   "pygments_lexer": "ipython3",
   "version": "3.13.7"
  }
 },
 "nbformat": 4,
 "nbformat_minor": 5
}
